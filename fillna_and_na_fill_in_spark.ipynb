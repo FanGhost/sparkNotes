{
 "cells": [
  {
   "cell_type": "markdown",
   "metadata": {},
   "source": [
    "# fillna() 和na.fill()中的坑\n",
    "在Join表之前，fillna()和na.fill()是常用的函数，用于防止出错，但是需要注意的是 这两个函数处理列的时候必须要用该列相同的数据类型，否则不会替换null（None）且不会报错，很难发现 例子如下\n"
   ]
  },
  {
   "cell_type": "code",
   "execution_count": 1,
   "metadata": {
    "collapsed": true
   },
   "outputs": [],
   "source": [
    "import numpy as np\n",
    "from pyspark import SparkContext\n",
    "from pyspark.sql import SparkSession\n"
   ]
  },
  {
   "cell_type": "code",
   "execution_count": 2,
   "metadata": {},
   "outputs": [],
   "source": [
    "spark = SparkSession.builder.getOrCreate()\n",
    "\n",
    "dfA = spark.createDataFrame(\n",
    "    [\n",
    "        ('a', None),\n",
    "        ('b', '0'),\n",
    "        ('c', '0')\n",
    "    ],\n",
    "    ('col1', 'col2')\n",
    ")\n",
    "\n",
    "dfB = spark.createDataFrame(\n",
    "    [\n",
    "        ('a', None, 'x'),\n",
    "        ('b', 0, 'x')\n",
    "    ],\n",
    "    ('col1', 'col2', 'col3')\n",
    ")"
   ]
  },
  {
   "cell_type": "code",
   "execution_count": 3,
   "metadata": {},
   "outputs": [
    {
     "name": "stdout",
     "output_type": "stream",
     "text": [
      "DataFrame[col1: string, col2: string]\n",
      "+----+----+\n",
      "|col1|col2|\n",
      "+----+----+\n",
      "|   a|null|\n",
      "|   b|   0|\n",
      "|   c|   0|\n",
      "+----+----+\n",
      "\n",
      "+----+----+\n",
      "|col1|col2|\n",
      "+----+----+\n",
      "|   a|   0|\n",
      "|   b|   0|\n",
      "|   c|   0|\n",
      "+----+----+\n",
      "\n",
      "+----+----+\n",
      "|col1|col2|\n",
      "+----+----+\n",
      "|   a|   0|\n",
      "|   b|   0|\n",
      "|   c|   0|\n",
      "+----+----+\n",
      "\n"
     ]
    }
   ],
   "source": [
    "\n",
    "print(dfA)\n",
    "\n",
    "dfA.show()\n",
    "dfA.fillna(\"0\",subset=['col2']).show()\n",
    "dfA.na.fill(\"0\").show()"
   ]
  },
  {
   "cell_type": "code",
   "execution_count": 4,
   "metadata": {},
   "outputs": [
    {
     "name": "stdout",
     "output_type": "stream",
     "text": [
      "DataFrame[col1: string, col2: bigint, col3: string]\n",
      "+----+----+----+\n",
      "|col1|col2|col3|\n",
      "+----+----+----+\n",
      "|   a|null|   x|\n",
      "|   b|   0|   x|\n",
      "+----+----+----+\n",
      "\n",
      "+----+----+----+\n",
      "|col1|col2|col3|\n",
      "+----+----+----+\n",
      "|   a|null|   x|\n",
      "|   b|   0|   x|\n",
      "+----+----+----+\n",
      "\n",
      "+----+----+----+\n",
      "|col1|col2|col3|\n",
      "+----+----+----+\n",
      "|   a|null|   x|\n",
      "|   b|   0|   x|\n",
      "+----+----+----+\n",
      "\n"
     ]
    }
   ],
   "source": [
    "print(dfB)\n",
    "dfB.show()\n",
    "dfB.fillna(\"0\",subset=['col2']).show()\n",
    "dfB.na.fill(\"0\").show()"
   ]
  },
  {
   "cell_type": "code",
   "execution_count": 5,
   "metadata": {},
   "outputs": [
    {
     "name": "stdout",
     "output_type": "stream",
     "text": [
      "+----+----+----+\n",
      "|col1|col2|col3|\n",
      "+----+----+----+\n",
      "|   a|null|   x|\n",
      "|   b|   0|   x|\n",
      "+----+----+----+\n",
      "\n",
      "+----+----+----+\n",
      "|col1|col2|col3|\n",
      "+----+----+----+\n",
      "|   a|   0|   x|\n",
      "|   b|   0|   x|\n",
      "+----+----+----+\n",
      "\n",
      "+----+----+----+\n",
      "|col1|col2|col3|\n",
      "+----+----+----+\n",
      "|   a|   0|   x|\n",
      "|   b|   0|   x|\n",
      "+----+----+----+\n",
      "\n"
     ]
    }
   ],
   "source": [
    "dfB.show()\n",
    "dfB.fillna(0,subset=['col2']).show()\n",
    "dfB.na.fill(0).show()"
   ]
  },
  {
   "cell_type": "markdown",
   "metadata": {},
   "source": [
    "可以看到，\n",
    "\n",
    "dfA的col2 类型为string，使用字符串'0'可以替换成功。\n",
    "\n",
    "dfB的col2 类型为bigint，使用字符串'0'不能替换成功，使用int类型的0 能替换成功。"
   ]
  },
  {
   "cell_type": "code",
   "execution_count": null,
   "metadata": {
    "collapsed": true
   },
   "outputs": [],
   "source": []
  }
 ],
 "metadata": {
  "kernelspec": {
   "display_name": "Python [default]",
   "language": "python",
   "name": "python2"
  },
  "language_info": {
   "codemirror_mode": {
    "name": "ipython",
    "version": 2
   },
   "file_extension": ".py",
   "mimetype": "text/x-python",
   "name": "python",
   "nbconvert_exporter": "python",
   "pygments_lexer": "ipython2",
   "version": "2.7.15"
  }
 },
 "nbformat": 4,
 "nbformat_minor": 2
}
